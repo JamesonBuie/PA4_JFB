{
 "cells": [
  {
   "cell_type": "markdown",
   "id": "e4372c40",
   "metadata": {},
   "source": [
    "## Practice Assignment 5\n",
    "### Jameson Buie\n",
    "### Version 1\n",
    "### CS-150-01 Spring\n"
   ]
  },
  {
   "cell_type": "markdown",
   "id": "c97bdacb",
   "metadata": {},
   "source": [
    "# a. Language Translator"
   ]
  },
  {
   "cell_type": "code",
   "execution_count": 115,
   "id": "0982bf13",
   "metadata": {},
   "outputs": [
    {
     "name": "stdout",
     "output_type": "stream",
     "text": [
      "Enter a word from the list to get its Spanish translation (enter 0 to stop): hello\n",
      "The Spanish word for HELLO is HOLA\n",
      "Enter a word from the list to get its Spanish translation (enter 0 to stop): hi\n",
      "The Spanish word for HI is not in this dictionary. Try again.\n",
      "Enter a word from the list to get its Spanish translation (enter 0 to stop): 0\n"
     ]
    }
   ],
   "source": [
    "languageTransl= {\n",
    "    'hello':'hola',\n",
    "    'thank you':'gracias',\n",
    "    'library': 'biblioteca',\n",
    "    'cat':'gato',\n",
    "    'money':'dinero',\n",
    "    'dog':'perro',\n",
    "    'house':'casa',\n",
    "    'school':'escuela',\n",
    "    'friend':'amigo',\n",
    "    'happy':'feliz'\n",
    "}\n",
    "prompt=(\"Enter a word from the list to get its Spanish translation (enter 0 to stop): \")\n",
    "word=\" \"\n",
    "active=True\n",
    "while active:\n",
    "    word=(input(prompt))\n",
    "    if word in languageTransl:\n",
    "        print(\"The Spanish word for \"+ word.upper() + \" is \"+ languageTransl.get(word).upper())\n",
    "        #break\n",
    "    elif word==\"0\":\n",
    "        break\n",
    "    else:\n",
    "        print(\"The Spanish word for \"+word.upper()+\" is not in this dictionary. Try again.\" )\n",
    "        \n",
    "\n",
    "    \n",
    "    \n",
    "  \n",
    "    \n",
    "\n",
    "    \n"
   ]
  },
  {
   "cell_type": "markdown",
   "id": "d4044acb",
   "metadata": {},
   "source": [
    "# b. Temperature Converter"
   ]
  },
  {
   "cell_type": "code",
   "execution_count": 31,
   "id": "9acf5724",
   "metadata": {},
   "outputs": [
    {
     "name": "stdout",
     "output_type": "stream",
     "text": [
      "{1: 12.78, 2: 17.22, 4: 15.0, 5: 9.44, 6: 7.78, 7: 10.56, 8: 5.56, 9: 7.22, 10: 11.67, 11: 15.0, 12: 14.44, 13: 3.89, 14: 3.33, 15: 7.22, 16: 12.22, 17: 17.22, 18: 13.89, 19: 17.22, 20: 5.0, 21: 5.56, 22: 2.78, 23: 3.33, 24: 8.33, 25: 8.89, 26: 2.22, 27: 10.56, 28: 13.89, 29: 8.33, 30: 3.33, 31: -1.67}\n"
     ]
    }
   ],
   "source": [
    "tempDict= {\n",
    "    1 : 55,\n",
    "    2 : 63,\n",
    "    4 : 59,\n",
    "    5 : 49,\n",
    "    6 : 46,\n",
    "    7 : 51,\n",
    "    8 : 42,\n",
    "    9 : 45,\n",
    "    10 : 53,\n",
    "    11 : 59,\n",
    "    12 : 58,\n",
    "    13 : 39,\n",
    "    14 : 38,\n",
    "    15 : 45,\n",
    "    16 : 54,\n",
    "    17 : 63,\n",
    "    18 : 57,\n",
    "    19 : 63,\n",
    "    20 : 41,\n",
    "    21 : 42, \n",
    "    22 : 37,\n",
    "    23 : 38,\n",
    "    24 : 47,\n",
    "    25 : 48,\n",
    "    26 : 36,\n",
    "    27 : 51,\n",
    "    28 : 57,\n",
    "    29 : 47,\n",
    "    30 : 38,\n",
    "    31 : 29\n",
    "}\n",
    "for key,value in tempDict.items():\n",
    "    tempDict[key]=round((value-32)/1.8,2)\n",
    "print(tempDict)"
   ]
  },
  {
   "cell_type": "markdown",
   "id": "06b762d9",
   "metadata": {},
   "source": [
    "# c. Square Dictionary"
   ]
  },
  {
   "cell_type": "code",
   "execution_count": 10,
   "id": "a328bac6",
   "metadata": {},
   "outputs": [
    {
     "name": "stdout",
     "output_type": "stream",
     "text": [
      "{1: 1, 2: 4, 3: 9, 4: 16, 5: 25, 6: 36, 7: 49, 8: 64, 9: 81, 10: 100, 11: 121, 12: 144, 13: 169, 14: 196, 15: 225}\n"
     ]
    }
   ],
   "source": [
    "dict={}\n",
    "for i in range(1,16):\n",
    "    dict[i]=i**2\n",
    "print(dict)"
   ]
  },
  {
   "cell_type": "code",
   "execution_count": null,
   "id": "b0ed1684",
   "metadata": {},
   "outputs": [],
   "source": []
  }
 ],
 "metadata": {
  "kernelspec": {
   "display_name": "Python 3 (ipykernel)",
   "language": "python",
   "name": "python3"
  },
  "language_info": {
   "codemirror_mode": {
    "name": "ipython",
    "version": 3
   },
   "file_extension": ".py",
   "mimetype": "text/x-python",
   "name": "python",
   "nbconvert_exporter": "python",
   "pygments_lexer": "ipython3",
   "version": "3.9.13"
  }
 },
 "nbformat": 4,
 "nbformat_minor": 5
}
